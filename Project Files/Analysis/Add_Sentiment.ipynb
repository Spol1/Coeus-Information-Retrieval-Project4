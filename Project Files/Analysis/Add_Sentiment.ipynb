{
 "cells": [
  {
   "cell_type": "code",
   "execution_count": 42,
   "metadata": {},
   "outputs": [],
   "source": [
    "from azure.core.credentials import AzureKeyCredential\n",
    "from azure.ai.textanalytics import TextAnalyticsClient\n",
    "import json"
   ]
  },
  {
   "cell_type": "code",
   "execution_count": 43,
   "metadata": {},
   "outputs": [],
   "source": [
    "endpoint = 'https://sentiment-analysis-irf20p4.cognitiveservices.azure.com/'\n",
    "key = '98ad5c4c006c450cb927415c0ea05278'\n",
    "text_analytics_client = TextAnalyticsClient(endpoint=endpoint, credential=AzureKeyCredential(key))"
   ]
  },
  {
   "cell_type": "code",
   "execution_count": 44,
   "metadata": {},
   "outputs": [],
   "source": [
    "documents = []\n",
    "tweet = []\n",
    "\n",
    "f = open(\"E:\\\\Uno.json\", \"r\", encoding=\"utf-8\")\n",
    "tweet = json.loads(f.read())\n",
    "for _ in range(len(tweet)):\n",
    "    documents.append(tweet[_]['tweet_text'])\n",
    "f.close()\n",
    "\n",
    "\n",
    "result = text_analytics_client.analyze_sentiment(documents)\n",
    "docs = [doc for doc in result if not doc.is_error]\n",
    "\n",
    "for id,doc in enumerate(docs):\n",
    "        tweet[id]['sentiment']=doc.sentiment\n",
    "        '''print(doc)\n",
    "        print(tweet[id]['id'])\n",
    "        print(tweet[id]['tweet_text'])\n",
    "        print(tweet[id]['sentiment'])\n",
    "        print(\"Document ID: {}\".format(id))\n",
    "        print(\"Document text: {}\".format(documents[id]))\n",
    "        print(\"Overall sentiment: {}\\n\".format(doc.sentiment))'''\n",
    "            \n",
    "f = open(\"E:\\\\New_Uno.json\", \"a\", encoding=\"utf-8\")\n",
    "f.write(json.dumps(tweet))\n",
    "f.close()"
   ]
  },
  {
   "cell_type": "code",
   "execution_count": null,
   "metadata": {},
   "outputs": [],
   "source": []
  }
 ],
 "metadata": {
  "kernelspec": {
   "display_name": "Python 3",
   "language": "python",
   "name": "python3"
  },
  "language_info": {
   "codemirror_mode": {
    "name": "ipython",
    "version": 3
   },
   "file_extension": ".py",
   "mimetype": "text/x-python",
   "name": "python",
   "nbconvert_exporter": "python",
   "pygments_lexer": "ipython3",
   "version": "3.8.3"
  }
 },
 "nbformat": 4,
 "nbformat_minor": 4
}
