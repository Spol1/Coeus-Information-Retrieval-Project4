{
 "cells": [
  {
   "cell_type": "code",
   "execution_count": 29,
   "metadata": {},
   "outputs": [],
   "source": [
    "from azure.core.credentials import AzureKeyCredential\n",
    "from azure.ai.textanalytics import TextAnalyticsClient"
   ]
  },
  {
   "cell_type": "code",
   "execution_count": null,
   "metadata": {},
   "outputs": [],
   "source": [
    "endpoint = 'https://sentiment-analysis-irf20p4.cognitiveservices.azure.com/'\n",
    "key = '98ad5c4c006c450cb927415c0ea05278'\n",
    "text_analytics_client = TextAnalyticsClient(endpoint=endpoint, credential=AzureKeyCredential(key))"
   ]
  },
  {
   "cell_type": "code",
   "execution_count": 34,
   "metadata": {},
   "outputs": [
    {
     "name": "stdout",
     "output_type": "stream",
     "text": [
      "Sentiments are as follows\n",
      "\n",
      "Document ID: 0\n",
      "Document text: this is good\n",
      "Overall sentiment: positive\n",
      "\n",
      "Document ID: 1\n",
      "Document text: this sucks\n",
      "Overall sentiment: negative\n",
      "\n"
     ]
    }
   ],
   "source": [
    "documents = ['this is good','this sucks']#<---------- Sending the text\n",
    "\n",
    "result = text_analytics_client.analyze_sentiment(documents)\n",
    "docs = [doc for doc in result if not doc.is_error]\n",
    "\n",
    "print(\"Sentiments are as follows\\n\")\n",
    "for id,doc in enumerate(docs):\n",
    "            #print(doc)\n",
    "            print(\"Document ID: {}\".format(id))\n",
    "            print(\"Document text: {}\".format(documents[id]))\n",
    "            print(\"Overall sentiment: {}\\n\".format(doc.sentiment))"
   ]
  },
  {
   "cell_type": "code",
   "execution_count": null,
   "metadata": {},
   "outputs": [],
   "source": []
  }
 ],
 "metadata": {
  "kernelspec": {
   "display_name": "Python 3",
   "language": "python",
   "name": "python3"
  },
  "language_info": {
   "codemirror_mode": {
    "name": "ipython",
    "version": 3
   },
   "file_extension": ".py",
   "mimetype": "text/x-python",
   "name": "python",
   "nbconvert_exporter": "python",
   "pygments_lexer": "ipython3",
   "version": "3.8.3"
  }
 },
 "nbformat": 4,
 "nbformat_minor": 4
}
